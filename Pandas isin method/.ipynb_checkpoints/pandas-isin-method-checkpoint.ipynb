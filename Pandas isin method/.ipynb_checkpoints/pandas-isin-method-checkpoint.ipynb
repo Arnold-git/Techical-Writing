{
 "cells": [
  {
   "cell_type": "code",
   "execution_count": 1,
   "metadata": {},
   "outputs": [],
   "source": [
    "import pandas as pd\n",
    "import numpy as np"
   ]
  },
  {
   "cell_type": "code",
   "execution_count": 2,
   "metadata": {},
   "outputs": [],
   "source": [
    "columns = ['Division', 'Qualification', 'Gender', 'Channel_of_Recruitment', \n",
    "                'Marital_Status', 'Foreign_schooled']"
   ]
  },
  {
   "cell_type": "markdown",
   "metadata": {},
   "source": [
    "For the purpose of this tutorial we also use the columns above. Feel free to expore the entire data set"
   ]
  },
  {
   "cell_type": "code",
   "execution_count": 3,
   "metadata": {},
   "outputs": [
    {
     "data": {
      "text/html": [
       "<div>\n",
       "<style scoped>\n",
       "    .dataframe tbody tr th:only-of-type {\n",
       "        vertical-align: middle;\n",
       "    }\n",
       "\n",
       "    .dataframe tbody tr th {\n",
       "        vertical-align: top;\n",
       "    }\n",
       "\n",
       "    .dataframe thead th {\n",
       "        text-align: right;\n",
       "    }\n",
       "</style>\n",
       "<table border=\"1\" class=\"dataframe\">\n",
       "  <thead>\n",
       "    <tr style=\"text-align: right;\">\n",
       "      <th></th>\n",
       "      <th>Division</th>\n",
       "      <th>Qualification</th>\n",
       "      <th>Gender</th>\n",
       "      <th>Channel_of_Recruitment</th>\n",
       "      <th>Foreign_schooled</th>\n",
       "      <th>Marital_Status</th>\n",
       "    </tr>\n",
       "  </thead>\n",
       "  <tbody>\n",
       "    <tr>\n",
       "      <th>0</th>\n",
       "      <td>Commercial Sales and Marketing</td>\n",
       "      <td>MSc, MBA and PhD</td>\n",
       "      <td>Female</td>\n",
       "      <td>Direct Internal process</td>\n",
       "      <td>No</td>\n",
       "      <td>Married</td>\n",
       "    </tr>\n",
       "    <tr>\n",
       "      <th>1</th>\n",
       "      <td>Customer Support and Field Operations</td>\n",
       "      <td>First Degree or HND</td>\n",
       "      <td>Male</td>\n",
       "      <td>Agency and others</td>\n",
       "      <td>Yes</td>\n",
       "      <td>Married</td>\n",
       "    </tr>\n",
       "    <tr>\n",
       "      <th>2</th>\n",
       "      <td>Commercial Sales and Marketing</td>\n",
       "      <td>First Degree or HND</td>\n",
       "      <td>Male</td>\n",
       "      <td>Direct Internal process</td>\n",
       "      <td>Yes</td>\n",
       "      <td>Married</td>\n",
       "    </tr>\n",
       "    <tr>\n",
       "      <th>3</th>\n",
       "      <td>Commercial Sales and Marketing</td>\n",
       "      <td>First Degree or HND</td>\n",
       "      <td>Male</td>\n",
       "      <td>Agency and others</td>\n",
       "      <td>Yes</td>\n",
       "      <td>Single</td>\n",
       "    </tr>\n",
       "    <tr>\n",
       "      <th>4</th>\n",
       "      <td>Information and Strategy</td>\n",
       "      <td>First Degree or HND</td>\n",
       "      <td>Male</td>\n",
       "      <td>Direct Internal process</td>\n",
       "      <td>Yes</td>\n",
       "      <td>Married</td>\n",
       "    </tr>\n",
       "  </tbody>\n",
       "</table>\n",
       "</div>"
      ],
      "text/plain": [
       "                                Division        Qualification  Gender  \\\n",
       "0         Commercial Sales and Marketing     MSc, MBA and PhD  Female   \n",
       "1  Customer Support and Field Operations  First Degree or HND    Male   \n",
       "2         Commercial Sales and Marketing  First Degree or HND    Male   \n",
       "3         Commercial Sales and Marketing  First Degree or HND    Male   \n",
       "4               Information and Strategy  First Degree or HND    Male   \n",
       "\n",
       "    Channel_of_Recruitment Foreign_schooled Marital_Status  \n",
       "0  Direct Internal process               No        Married  \n",
       "1        Agency and others              Yes        Married  \n",
       "2  Direct Internal process              Yes        Married  \n",
       "3        Agency and others              Yes         Single  \n",
       "4  Direct Internal process              Yes        Married  "
      ]
     },
     "execution_count": 3,
     "metadata": {},
     "output_type": "execute_result"
    }
   ],
   "source": [
    "data = pd.read_csv('train.csv', usecols = columns)\n",
    "\n",
    "data.head(5)"
   ]
  },
  {
   "cell_type": "code",
   "execution_count": null,
   "metadata": {},
   "outputs": [],
   "source": [
    "data.columns"
   ]
  },
  {
   "cell_type": "code",
   "execution_count": null,
   "metadata": {},
   "outputs": [],
   "source": [
    "def num_unique(df, var):\n",
    "\n",
    "    return df[var].unique()"
   ]
  },
  {
   "cell_type": "markdown",
   "metadata": {},
   "source": [
    "### Pandas isin Syntax\n",
    "\n",
    "**Dataframe.`isin`(values)**\n",
    "\n",
    "**Parameter**: The function takes a single value (dictionary, iterable, list or series) which runs against a vectorised boolean expression and filter the dataframe based on the values passed as arguments.\n",
    "\n",
    "**Returns**: The result is a dataframe of booleans showing whether each element in the DataFrame is contained in the values."
   ]
  },
  {
   "cell_type": "code",
   "execution_count": null,
   "metadata": {},
   "outputs": [],
   "source": [
    "for var in data.columns:\n",
    "    print(num_unique(data, var))"
   ]
  },
  {
   "cell_type": "markdown",
   "metadata": {},
   "source": [
    "### Filtering a Single Column with Pandas Isin\n",
    "\n",
    "1. Filter dataframe to get only those with `'MSc, MBA and PhD` qualification\n",
    "2. Filter dataframe to get only those employed through `Referral and Special candidates`\n",
    "3. Filter dataframe to get only those in `Customer Support and Field Operations` division"
   ]
  },
  {
   "cell_type": "markdown",
   "metadata": {},
   "source": [
    "#### 1. Filter dataframe to get only those with `MBA and PhD` qualification"
   ]
  },
  {
   "cell_type": "code",
   "execution_count": null,
   "metadata": {},
   "outputs": [],
   "source": [
    "data_1 = data[data['Qualification'].isin(['MSc, MBA and PhD'])]\n",
    "\n",
    "data_1"
   ]
  },
  {
   "cell_type": "markdown",
   "metadata": {},
   "source": [
    "#### 2. Filter dataframe to get only those employed through `Referral and Special candidates`"
   ]
  },
  {
   "cell_type": "code",
   "execution_count": null,
   "metadata": {},
   "outputs": [],
   "source": [
    "data_2 = data[data['Channel_of_Recruitment'].isin(['Referral and Special candidates'])]\n",
    "\n",
    "data_2\n"
   ]
  },
  {
   "cell_type": "markdown",
   "metadata": {},
   "source": [
    "#### 3. Filter dataframe to get only those in `Customer Support and Field Operations` division"
   ]
  },
  {
   "cell_type": "code",
   "execution_count": null,
   "metadata": {},
   "outputs": [],
   "source": [
    "data_3 = data[data['Division'].isin(['Customer Support and Field Operations'])]\n",
    "\n",
    "data_3"
   ]
  },
  {
   "cell_type": "markdown",
   "metadata": {},
   "source": [
    "### Filtering Multiple Columns with Pandas Isin\n",
    "\n",
    "In this section we would like at the following used cases on filtering multiple columns with pandas isin method\n",
    "\n",
    "1. filter dataframe to include `female` in `Information Technology and Solution Support` division with `MSc MBA and PhD` Qualification\n",
    "2. filter dataframe to include `male` employed through `Direct Internal process` with `First Degree or HND` Qualification\n",
    "3. filter dataframe to include those in `Customer Support and Field Operations` with `Non-University Education` and employed throgh `Direct Internal process` and are `married`"
   ]
  },
  {
   "cell_type": "markdown",
   "metadata": {},
   "source": [
    "#### 1. filter dataframe to include `female` in `Information Technology and Solution Support division` with `MSc MBA and PhD` Qualification"
   ]
  },
  {
   "cell_type": "code",
   "execution_count": null,
   "metadata": {},
   "outputs": [],
   "source": []
  },
  {
   "cell_type": "code",
   "execution_count": null,
   "metadata": {},
   "outputs": [],
   "source": [
    "data_4 = data[data[['Gender', 'Division', 'Qualification']].\n",
    "                isin(['Female', 'Information Technology and Solution Support', 'MSc, MBA and PhD']).all(axis=1)]"
   ]
  },
  {
   "cell_type": "code",
   "execution_count": null,
   "metadata": {},
   "outputs": [],
   "source": [
    "data_4.head(6)"
   ]
  },
  {
   "cell_type": "markdown",
   "metadata": {},
   "source": [
    "#### 2. filter dataframe to include `male` employed through `Direct Internal process` with `First Degree or HND` Qualification"
   ]
  },
  {
   "cell_type": "code",
   "execution_count": null,
   "metadata": {},
   "outputs": [],
   "source": [
    "data_4 = data[data[['Gender', 'Division', 'Qualification']].\n",
    "                isin(['Female', 'Information Technology and Solution Support', 'MSc, MBA and PhD']).all(axis=1)]"
   ]
  },
  {
   "cell_type": "code",
   "execution_count": null,
   "metadata": {},
   "outputs": [],
   "source": [
    "data_5 = data[data[['Gender', 'Channel_of_Recruitment', 'Qualification']].isin(\n",
    "    ['Male', 'Direct Internal process', 'First Degree or HND']\n",
    ").all(axis=1)]\n",
    "\n",
    "print(data_5.shape)\n",
    "data_5.head(6)"
   ]
  },
  {
   "cell_type": "markdown",
   "metadata": {},
   "source": [
    "#### 3. filter dataframe to include those in `Customer Support and Field Operations` with `Non-University Education` and employed throgh `Direct Internal process` and are `Married`"
   ]
  },
  {
   "cell_type": "code",
   "execution_count": null,
   "metadata": {},
   "outputs": [],
   "source": [
    "data_6 = data[data[['Division', 'Qualification', 'Channel_of_Recruitment', 'Marital_Status']].isin(\n",
    "    ['Customer Support and Field Operations', 'Non-University Education', 'Direct Internal process', 'Married']\n",
    ").all(axis=1)]\n",
    "\n",
    "print(data_6.shape)\n",
    "data_6.tail(4)"
   ]
  },
  {
   "cell_type": "markdown",
   "metadata": {},
   "source": [
    "Similiarly, we can also filter our dataframe to print columns if any of the condition above is met by chaining our data to `.any` method. The code below mean filter dataframe to include those in `Customer Support and Field Operations` or with `Non-University Education` or employed through `Direct Internal process` or are `Married`"
   ]
  },
  {
   "cell_type": "code",
   "execution_count": null,
   "metadata": {},
   "outputs": [],
   "source": [
    "data_7 = data[data[['Division', 'Qualification', 'Channel_of_Recruitment', 'Marital_Status']].isin(\n",
    "    ['Customer Support and Field Operations', 'Non-University Education', 'Direct Internal process', 'Married']\n",
    ").any(axis=1)]\n",
    "\n",
    "\n",
    "data_7.head(3)"
   ]
  },
  {
   "cell_type": "markdown",
   "metadata": {},
   "source": [
    "The code below means give me those employees that either have `MSc, MBA and PhD` **or** `Non-University Education` qualification"
   ]
  },
  {
   "cell_type": "code",
   "execution_count": null,
   "metadata": {},
   "outputs": [],
   "source": [
    "data_8 = data[data[['Qualification', 'Marital_Status']].isin(\n",
    "    ['MSc, MBA and PhD', 'Non-University Education']\n",
    ").any(axis=1)]\n",
    "\n",
    "\n",
    "data_8.head(3)"
   ]
  },
  {
   "cell_type": "code",
   "execution_count": null,
   "metadata": {},
   "outputs": [],
   "source": [
    "data_8"
   ]
  },
  {
   "cell_type": "markdown",
   "metadata": {},
   "source": [
    "### Filtering Dataframe using Pandas Isin **Not** Matching Condition\n",
    "\n",
    "We can use pandas unary operation (`~`) to perform `NOT IN` selection\n",
    "\n",
    "You can learn more about python unary operator [here](https://orclqa.com/python-unary-operator/#:~:text=A%20unary%20operator%20is%20an,preceded%20by%20the%20unary%20operator.)"
   ]
  },
  {
   "cell_type": "code",
   "execution_count": null,
   "metadata": {},
   "outputs": [],
   "source": [
    "# select employees that are not in Commercial Sales and Marketing or Research and Innovation\n",
    "# that is, select all employees except those in Research and Innovation or Commercial Sales and Marketing division\n",
    "data_9 = data[~data['Division'].isin(['Commercial Sales and Marketing', 'Research and Innovation'])]\n",
    "\n",
    "data_9"
   ]
  },
  {
   "cell_type": "code",
   "execution_count": null,
   "metadata": {},
   "outputs": [],
   "source": [
    "# get all employee except those in Customer Support and Field Operations\n",
    "# and those that have not had foreign education\n",
    "\n",
    "data_10 = data[~data[['Division', 'Foreign_schooled']].isin(['Customer Support and Field Operations', 'No']).any(axis = 1)]\n",
    "\n",
    "data_10"
   ]
  },
  {
   "cell_type": "code",
   "execution_count": null,
   "metadata": {},
   "outputs": [],
   "source": [
    "data_10['Division'].unique()"
   ]
  },
  {
   "cell_type": "code",
   "execution_count": null,
   "metadata": {},
   "outputs": [],
   "source": [
    "col_missing = [\n",
    "    var for var in data.columns if data[var].isnull().sum() > 0\n",
    "]\n",
    "\n",
    "col_missing"
   ]
  },
  {
   "cell_type": "code",
   "execution_count": null,
   "metadata": {},
   "outputs": [],
   "source": [
    "print(data['Qualification'].isnull().sum())\n",
    "print(data['Qualification'].unique())"
   ]
  },
  {
   "cell_type": "code",
   "execution_count": null,
   "metadata": {},
   "outputs": [],
   "source": []
  }
 ],
 "metadata": {
  "interpreter": {
   "hash": "916dbcbb3f70747c44a77c7bcd40155683ae19c65e1c03b4aa3499c5328201f1"
  },
  "kernelspec": {
   "display_name": "Python 3 (ipykernel)",
   "language": "python",
   "name": "python3"
  },
  "language_info": {
   "codemirror_mode": {
    "name": "ipython",
    "version": 3
   },
   "file_extension": ".py",
   "mimetype": "text/x-python",
   "name": "python",
   "nbconvert_exporter": "python",
   "pygments_lexer": "ipython3",
   "version": "3.8.10"
  }
 },
 "nbformat": 4,
 "nbformat_minor": 2
}
